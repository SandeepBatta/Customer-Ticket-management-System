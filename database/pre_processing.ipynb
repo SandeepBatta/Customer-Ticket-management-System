{
 "cells": [
  {
   "cell_type": "markdown",
   "metadata": {},
   "source": [
    "# Preprocessing the raw data and populating MySQL databse"
   ]
  },
  {
   "cell_type": "code",
   "execution_count": 1,
   "metadata": {},
   "outputs": [],
   "source": [
    "import pandas as pd\n",
    "from sqlalchemy import create_engine\n",
    "import json"
   ]
  },
  {
   "cell_type": "code",
   "execution_count": 2,
   "metadata": {},
   "outputs": [],
   "source": [
    "df = pd.read_csv(\"customer_support_tickets.csv\")"
   ]
  },
  {
   "cell_type": "code",
   "execution_count": 3,
   "metadata": {},
   "outputs": [
    {
     "data": {
      "text/plain": [
       "(8469, 17)"
      ]
     },
     "execution_count": 3,
     "metadata": {},
     "output_type": "execute_result"
    }
   ],
   "source": [
    "df.shape"
   ]
  },
  {
   "cell_type": "markdown",
   "metadata": {},
   "source": [
    "## Raw data has unique user for every ticket. So sampling 500 users out of all users"
   ]
  },
  {
   "cell_type": "code",
   "execution_count": 4,
   "metadata": {},
   "outputs": [],
   "source": [
    "users = df[[\"Customer Name\", \"Customer Email\", \"Customer Age\", \"Customer Gender\"]].sample(500)"
   ]
  },
  {
   "cell_type": "code",
   "execution_count": 5,
   "metadata": {},
   "outputs": [
    {
     "data": {
      "text/html": [
       "<div>\n",
       "<style scoped>\n",
       "    .dataframe tbody tr th:only-of-type {\n",
       "        vertical-align: middle;\n",
       "    }\n",
       "\n",
       "    .dataframe tbody tr th {\n",
       "        vertical-align: top;\n",
       "    }\n",
       "\n",
       "    .dataframe thead th {\n",
       "        text-align: right;\n",
       "    }\n",
       "</style>\n",
       "<table border=\"1\" class=\"dataframe\">\n",
       "  <thead>\n",
       "    <tr style=\"text-align: right;\">\n",
       "      <th></th>\n",
       "      <th>Customer Name</th>\n",
       "      <th>Customer Email</th>\n",
       "      <th>Customer Age</th>\n",
       "      <th>Customer Gender</th>\n",
       "    </tr>\n",
       "  </thead>\n",
       "  <tbody>\n",
       "    <tr>\n",
       "      <th>7134</th>\n",
       "      <td>Jerry Rodgers</td>\n",
       "      <td>eric03@example.org</td>\n",
       "      <td>56</td>\n",
       "      <td>Male</td>\n",
       "    </tr>\n",
       "  </tbody>\n",
       "</table>\n",
       "</div>"
      ],
      "text/plain": [
       "      Customer Name      Customer Email  Customer Age Customer Gender\n",
       "7134  Jerry Rodgers  eric03@example.org            56            Male"
      ]
     },
     "execution_count": 5,
     "metadata": {},
     "output_type": "execute_result"
    }
   ],
   "source": [
    "users.sample()"
   ]
  },
  {
   "cell_type": "markdown",
   "metadata": {},
   "source": [
    "## Reassign sampled users to tickets"
   ]
  },
  {
   "cell_type": "code",
   "execution_count": 6,
   "metadata": {},
   "outputs": [],
   "source": [
    "df[[\"Customer Name\", \"Customer Email\", \"Customer Age\", \"Customer Gender\"]] = users.sample(len(df), replace=True, ignore_index=True)"
   ]
  },
  {
   "cell_type": "code",
   "execution_count": 7,
   "metadata": {},
   "outputs": [],
   "source": [
    "df[\"Date of Purchase\"] = pd.to_datetime(df[\"Date of Purchase\"])"
   ]
  },
  {
   "cell_type": "code",
   "execution_count": 8,
   "metadata": {},
   "outputs": [
    {
     "data": {
      "text/html": [
       "<div>\n",
       "<style scoped>\n",
       "    .dataframe tbody tr th:only-of-type {\n",
       "        vertical-align: middle;\n",
       "    }\n",
       "\n",
       "    .dataframe tbody tr th {\n",
       "        vertical-align: top;\n",
       "    }\n",
       "\n",
       "    .dataframe thead th {\n",
       "        text-align: right;\n",
       "    }\n",
       "</style>\n",
       "<table border=\"1\" class=\"dataframe\">\n",
       "  <thead>\n",
       "    <tr style=\"text-align: right;\">\n",
       "      <th></th>\n",
       "      <th>Ticket ID</th>\n",
       "      <th>Customer Name</th>\n",
       "      <th>Customer Email</th>\n",
       "      <th>Customer Age</th>\n",
       "      <th>Customer Gender</th>\n",
       "      <th>Product Purchased</th>\n",
       "      <th>Date of Purchase</th>\n",
       "      <th>Ticket Type</th>\n",
       "      <th>Ticket Subject</th>\n",
       "      <th>Ticket Description</th>\n",
       "      <th>Ticket Status</th>\n",
       "      <th>Resolution</th>\n",
       "      <th>Ticket Priority</th>\n",
       "      <th>Ticket Channel</th>\n",
       "      <th>First Response Time</th>\n",
       "      <th>Time to Resolution</th>\n",
       "      <th>Customer Satisfaction Rating</th>\n",
       "    </tr>\n",
       "  </thead>\n",
       "  <tbody>\n",
       "    <tr>\n",
       "      <th>0</th>\n",
       "      <td>1</td>\n",
       "      <td>Scott Farley</td>\n",
       "      <td>gomezbeth@example.net</td>\n",
       "      <td>67</td>\n",
       "      <td>Female</td>\n",
       "      <td>GoPro Hero</td>\n",
       "      <td>2021-03-22</td>\n",
       "      <td>Technical issue</td>\n",
       "      <td>Product setup</td>\n",
       "      <td>I'm having an issue with the {product_purchase...</td>\n",
       "      <td>Pending Customer Response</td>\n",
       "      <td>NaN</td>\n",
       "      <td>Critical</td>\n",
       "      <td>Social media</td>\n",
       "      <td>2023-06-01 12:15:36</td>\n",
       "      <td>NaN</td>\n",
       "      <td>NaN</td>\n",
       "    </tr>\n",
       "    <tr>\n",
       "      <th>1</th>\n",
       "      <td>2</td>\n",
       "      <td>James Rhodes</td>\n",
       "      <td>brent43@example.net</td>\n",
       "      <td>38</td>\n",
       "      <td>Other</td>\n",
       "      <td>LG Smart TV</td>\n",
       "      <td>2021-05-22</td>\n",
       "      <td>Technical issue</td>\n",
       "      <td>Peripheral compatibility</td>\n",
       "      <td>I'm having an issue with the {product_purchase...</td>\n",
       "      <td>Pending Customer Response</td>\n",
       "      <td>NaN</td>\n",
       "      <td>Critical</td>\n",
       "      <td>Chat</td>\n",
       "      <td>2023-06-01 16:45:38</td>\n",
       "      <td>NaN</td>\n",
       "      <td>NaN</td>\n",
       "    </tr>\n",
       "    <tr>\n",
       "      <th>2</th>\n",
       "      <td>3</td>\n",
       "      <td>Debbie Buchanan</td>\n",
       "      <td>martinnicholas@example.net</td>\n",
       "      <td>66</td>\n",
       "      <td>Male</td>\n",
       "      <td>Dell XPS</td>\n",
       "      <td>2020-07-14</td>\n",
       "      <td>Technical issue</td>\n",
       "      <td>Network problem</td>\n",
       "      <td>I'm facing a problem with my {product_purchase...</td>\n",
       "      <td>Closed</td>\n",
       "      <td>Case maybe show recently my computer follow.</td>\n",
       "      <td>Low</td>\n",
       "      <td>Social media</td>\n",
       "      <td>2023-06-01 11:14:38</td>\n",
       "      <td>2023-06-01 18:05:38</td>\n",
       "      <td>3.0</td>\n",
       "    </tr>\n",
       "    <tr>\n",
       "      <th>3</th>\n",
       "      <td>4</td>\n",
       "      <td>Justin Buchanan</td>\n",
       "      <td>riverajonathan@example.org</td>\n",
       "      <td>51</td>\n",
       "      <td>Other</td>\n",
       "      <td>Microsoft Office</td>\n",
       "      <td>2020-11-13</td>\n",
       "      <td>Billing inquiry</td>\n",
       "      <td>Account access</td>\n",
       "      <td>I'm having an issue with the {product_purchase...</td>\n",
       "      <td>Closed</td>\n",
       "      <td>Try capital clearly never color toward story.</td>\n",
       "      <td>Low</td>\n",
       "      <td>Social media</td>\n",
       "      <td>2023-06-01 07:29:40</td>\n",
       "      <td>2023-06-01 01:57:40</td>\n",
       "      <td>3.0</td>\n",
       "    </tr>\n",
       "    <tr>\n",
       "      <th>4</th>\n",
       "      <td>5</td>\n",
       "      <td>Anita Green</td>\n",
       "      <td>kathleenduke@example.com</td>\n",
       "      <td>41</td>\n",
       "      <td>Male</td>\n",
       "      <td>Autodesk AutoCAD</td>\n",
       "      <td>2020-02-04</td>\n",
       "      <td>Billing inquiry</td>\n",
       "      <td>Data loss</td>\n",
       "      <td>I'm having an issue with the {product_purchase...</td>\n",
       "      <td>Closed</td>\n",
       "      <td>West decision evidence bit.</td>\n",
       "      <td>Low</td>\n",
       "      <td>Email</td>\n",
       "      <td>2023-06-01 00:12:42</td>\n",
       "      <td>2023-06-01 19:53:42</td>\n",
       "      <td>1.0</td>\n",
       "    </tr>\n",
       "  </tbody>\n",
       "</table>\n",
       "</div>"
      ],
      "text/plain": [
       "   Ticket ID    Customer Name              Customer Email  Customer Age  \\\n",
       "0          1     Scott Farley       gomezbeth@example.net            67   \n",
       "1          2     James Rhodes         brent43@example.net            38   \n",
       "2          3  Debbie Buchanan  martinnicholas@example.net            66   \n",
       "3          4  Justin Buchanan  riverajonathan@example.org            51   \n",
       "4          5      Anita Green    kathleenduke@example.com            41   \n",
       "\n",
       "  Customer Gender Product Purchased Date of Purchase      Ticket Type  \\\n",
       "0          Female        GoPro Hero       2021-03-22  Technical issue   \n",
       "1           Other       LG Smart TV       2021-05-22  Technical issue   \n",
       "2            Male          Dell XPS       2020-07-14  Technical issue   \n",
       "3           Other  Microsoft Office       2020-11-13  Billing inquiry   \n",
       "4            Male  Autodesk AutoCAD       2020-02-04  Billing inquiry   \n",
       "\n",
       "             Ticket Subject  \\\n",
       "0             Product setup   \n",
       "1  Peripheral compatibility   \n",
       "2           Network problem   \n",
       "3            Account access   \n",
       "4                 Data loss   \n",
       "\n",
       "                                  Ticket Description  \\\n",
       "0  I'm having an issue with the {product_purchase...   \n",
       "1  I'm having an issue with the {product_purchase...   \n",
       "2  I'm facing a problem with my {product_purchase...   \n",
       "3  I'm having an issue with the {product_purchase...   \n",
       "4  I'm having an issue with the {product_purchase...   \n",
       "\n",
       "               Ticket Status                                     Resolution  \\\n",
       "0  Pending Customer Response                                            NaN   \n",
       "1  Pending Customer Response                                            NaN   \n",
       "2                     Closed   Case maybe show recently my computer follow.   \n",
       "3                     Closed  Try capital clearly never color toward story.   \n",
       "4                     Closed                    West decision evidence bit.   \n",
       "\n",
       "  Ticket Priority Ticket Channel  First Response Time   Time to Resolution  \\\n",
       "0        Critical   Social media  2023-06-01 12:15:36                  NaN   \n",
       "1        Critical           Chat  2023-06-01 16:45:38                  NaN   \n",
       "2             Low   Social media  2023-06-01 11:14:38  2023-06-01 18:05:38   \n",
       "3             Low   Social media  2023-06-01 07:29:40  2023-06-01 01:57:40   \n",
       "4             Low          Email  2023-06-01 00:12:42  2023-06-01 19:53:42   \n",
       "\n",
       "   Customer Satisfaction Rating  \n",
       "0                           NaN  \n",
       "1                           NaN  \n",
       "2                           3.0  \n",
       "3                           3.0  \n",
       "4                           1.0  "
      ]
     },
     "execution_count": 8,
     "metadata": {},
     "output_type": "execute_result"
    }
   ],
   "source": [
    "df.head()"
   ]
  },
  {
   "cell_type": "code",
   "execution_count": 9,
   "metadata": {},
   "outputs": [
    {
     "name": "stdout",
     "output_type": "stream",
     "text": [
      "<class 'pandas.core.frame.DataFrame'>\n",
      "RangeIndex: 8469 entries, 0 to 8468\n",
      "Data columns (total 17 columns):\n",
      " #   Column                        Non-Null Count  Dtype         \n",
      "---  ------                        --------------  -----         \n",
      " 0   Ticket ID                     8469 non-null   int64         \n",
      " 1   Customer Name                 8469 non-null   object        \n",
      " 2   Customer Email                8469 non-null   object        \n",
      " 3   Customer Age                  8469 non-null   int64         \n",
      " 4   Customer Gender               8469 non-null   object        \n",
      " 5   Product Purchased             8469 non-null   object        \n",
      " 6   Date of Purchase              8469 non-null   datetime64[ns]\n",
      " 7   Ticket Type                   8469 non-null   object        \n",
      " 8   Ticket Subject                8469 non-null   object        \n",
      " 9   Ticket Description            8469 non-null   object        \n",
      " 10  Ticket Status                 8469 non-null   object        \n",
      " 11  Resolution                    2769 non-null   object        \n",
      " 12  Ticket Priority               8469 non-null   object        \n",
      " 13  Ticket Channel                8469 non-null   object        \n",
      " 14  First Response Time           5650 non-null   object        \n",
      " 15  Time to Resolution            2769 non-null   object        \n",
      " 16  Customer Satisfaction Rating  2769 non-null   float64       \n",
      "dtypes: datetime64[ns](1), float64(1), int64(2), object(13)\n",
      "memory usage: 1.1+ MB\n"
     ]
    }
   ],
   "source": [
    "df.info()"
   ]
  },
  {
   "cell_type": "markdown",
   "metadata": {},
   "source": [
    "## Load Databse Credentials"
   ]
  },
  {
   "cell_type": "code",
   "execution_count": 10,
   "metadata": {},
   "outputs": [],
   "source": [
    "with open('./credentials.json') as fh:\n",
    "    credentials = json.load(fh)"
   ]
  },
  {
   "cell_type": "code",
   "execution_count": 11,
   "metadata": {},
   "outputs": [],
   "source": [
    "user = credentials[\"user\"]\n",
    "password = credentials[\"password\"]\n",
    "hostname = credentials[\"hostname\"]\n",
    "database = credentials[\"database\"]"
   ]
  },
  {
   "cell_type": "markdown",
   "metadata": {},
   "source": [
    "## Create connection"
   ]
  },
  {
   "cell_type": "code",
   "execution_count": 12,
   "metadata": {},
   "outputs": [],
   "source": [
    "engine = create_engine(f\"mysql+mysqlconnector://{user}:{password}@{hostname}/ctms\")"
   ]
  },
  {
   "cell_type": "markdown",
   "metadata": {},
   "source": [
    "## Insert data into the table"
   ]
  },
  {
   "cell_type": "code",
   "execution_count": 13,
   "metadata": {},
   "outputs": [
    {
     "data": {
      "text/plain": [
       "8469"
      ]
     },
     "execution_count": 13,
     "metadata": {},
     "output_type": "execute_result"
    }
   ],
   "source": [
    "df.to_sql(name='customer_support_tickets', con=engine, if_exists=\"replace\", index=False)"
   ]
  },
  {
   "cell_type": "code",
   "execution_count": 14,
   "metadata": {},
   "outputs": [],
   "source": [
    "engine.dispose()"
   ]
  }
 ],
 "metadata": {
  "kernelspec": {
   "display_name": ".venv",
   "language": "python",
   "name": "python3"
  },
  "language_info": {
   "codemirror_mode": {
    "name": "ipython",
    "version": 3
   },
   "file_extension": ".py",
   "mimetype": "text/x-python",
   "name": "python",
   "nbconvert_exporter": "python",
   "pygments_lexer": "ipython3",
   "version": "3.9.6"
  }
 },
 "nbformat": 4,
 "nbformat_minor": 2
}
